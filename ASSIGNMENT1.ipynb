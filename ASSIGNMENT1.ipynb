{
 "cells": [
  {
   "cell_type": "raw",
   "id": "6e93480d-b0e8-4f42-9b19-f056f92d8235",
   "metadata": {},
   "source": [
    "Explain with an example each when to use a for loop and a while loop\n",
    "Ans:\n",
    "    For loops and while loops are both control structures in programming that allow you to repeat a block of code multiple times. Here are some examples to demonstrate when you might use each one:\n",
    "\n",
    "For loop: When you know the number of iterations beforehand and want to iterate through a sequence of elements, such as a list or an array. For example, you have a list of names and you want to print each name:\n",
    "    \n",
    "names = [\"Alice\", \"Bob\", \"Charlie\", \"David\"]\n",
    "for name in names:\n",
    "    print(name)\n",
    "    \n",
    "While loop: When you don't know the number of iterations beforehand, or you have a condition that needs to be met before you stop looping. For example, you want to keep prompting the user for a password until they enter the correct password:\n",
    "It's important to note that if the condition for a while loop is never met, the loop will run forever, creating an infinite loop. On the other hand, for loops are safer because they have a defined number of iterations.\n",
    "password = \"secret\"\n",
    "input_password = \"\"\n",
    "while input_password != password:\n",
    "    input_password = input(\"Enter your password: \")\n",
    "print(\"Access granted.\")"
   ]
  },
  {
   "cell_type": "code",
   "execution_count": 2,
   "id": "28648ddd-14a8-49de-b929-9027ea149751",
   "metadata": {},
   "outputs": [
    {
     "name": "stdout",
     "output_type": "stream",
     "text": [
      " sum = 55\n",
      "prod = 3628800\n"
     ]
    }
   ],
   "source": [
    "#Write a python program to print the sum and product of the first 10 natural numbers using for\n",
    "#and while loop.\n",
    "sum=0\n",
    "prod=1\n",
    "for i in range(1,11):\n",
    "    sum=sum+i\n",
    "    prod=prod*i\n",
    "print(\" sum =\",sum)\n",
    "print(\"prod =\",prod)\n",
    "\n"
   ]
  },
  {
   "cell_type": "code",
   "execution_count": 5,
   "id": "86a33467-7ed1-4703-92d7-fc3d2cffac29",
   "metadata": {},
   "outputs": [
    {
     "name": "stdin",
     "output_type": "stream",
     "text": [
      "enter no of unit 310\n"
     ]
    },
    {
     "name": "stdout",
     "output_type": "stream",
     "text": [
      "charges = 2250.0\n"
     ]
    }
   ],
   "source": [
    "# #Q3. Create a python program to compute the electricity bill for a household.\n",
    "# #The per-unit charges in rupees are as follows: For the first 100 units, the user will be charged Rs. 4.5 per\n",
    "# #unit, for the next 100 units, the user will be charged Rs. 6 per unit, and for the next 100 units, the user will\n",
    "# #be charged Rs. 10 per unit, After 300 units and above the user will be charged Rs. 20 per unit\n",
    "unit=int(input(\"enter no of unit\"))\n",
    "charge=0\n",
    "if unit<=100:\n",
    "    charge=4.5*unit\n",
    "elif unit<=200:\n",
    "    charge=4.5*100+(unit-100)*6\n",
    "elif unit<=300:\n",
    "    charge=4.5*100+6*100+(unit-200)*10\n",
    "else: charge=4.5*100+6*100+10*100+(unit-300)*20\n",
    "print(\"charges =\",charge)"
   ]
  },
  {
   "cell_type": "code",
   "execution_count": 8,
   "id": "635d0a27-7188-4b7a-a08c-83c90f77b48b",
   "metadata": {},
   "outputs": [
    {
     "name": "stdout",
     "output_type": "stream",
     "text": [
      " original list  [0, 1, 2, 3, 4, 5, 6, 7, 8, 9, 10, 11, 12, 13, 14, 15, 16, 17, 18, 19, 20, 21, 22, 23, 24, 25, 26, 27, 28, 29, 30, 31, 32, 33, 34, 35, 36, 37, 38, 39, 40, 41, 42, 43, 44, 45, 46, 47, 48, 49, 50, 51, 52, 53, 54, 55, 56, 57, 58, 59, 60, 61, 62, 63, 64, 65, 66, 67, 68, 69, 70, 71, 72, 73, 74, 75, 76, 77, 78, 79, 80, 81, 82, 83, 84, 85, 86, 87, 88, 89, 90, 91, 92, 93, 94, 95, 96, 97, 98, 99, 100]\n",
      "Numbers (for loop): [0, 2, 4, 5, 6, 8, 10, 12, 14, 15, 16, 18, 20, 22, 24, 25, 26, 28, 30, 32, 34, 35, 36, 38, 40, 42, 44, 45, 46, 48, 50, 52, 54, 55, 56, 58, 60, 62, 64, 65, 66, 68, 70, 72, 74, 75, 76, 78, 80, 82, 84, 85, 86, 88, 90, 92, 94, 95, 96, 98, 100]\n",
      "Numbers (while loop): [2, 4, 5, 6, 8, 10, 12, 14, 15, 16, 18, 20, 22, 24, 25, 26, 28, 30, 32, 34, 35, 36, 38, 40, 42, 44, 45, 46, 48, 50, 52, 54, 55, 56, 58, 60, 62, 64, 65, 66, 68, 70, 72, 74, 75, 76, 78, 80, 82, 84, 85, 86, 88, 90, 92, 94, 95, 96, 98, 100]\n"
     ]
    }
   ],
   "source": [
    "# Create a list of numbers from 1 to 100. Use for loop and while loop to calculate the cube of each\n",
    "# number and if the cube of that number is divisible by 4 or 5 then append that number in a list and print\n",
    "# that list.\n",
    "# Using for loop\n",
    "l=list(range(0,101))\n",
    "print(\" original list \",l)\n",
    "for_numbers = []\n",
    "for i in l:\n",
    "    cube = i ** 3\n",
    "    if cube % 4 == 0 or cube % 5 == 0:\n",
    "        for_numbers.append(i)\n",
    "print(\"Numbers (for loop):\", for_numbers)\n",
    "\n",
    "# Using while loop\n",
    "while_numbers = []\n",
    "i = 1\n",
    "while i <= 100:\n",
    "    cube = i ** 3\n",
    "    if cube % 4 == 0 or cube % 5 == 0:\n",
    "        while_numbers.append(i)\n",
    "    i += 1\n",
    "print(\"Numbers (while loop):\", while_numbers)"
   ]
  },
  {
   "cell_type": "code",
   "execution_count": 13,
   "id": "4b4e0f4a-b984-4d1d-a6e4-8f7985dbe803",
   "metadata": {},
   "outputs": [
    {
     "name": "stdout",
     "output_type": "stream",
     "text": [
      "['I', 'a', 'o', 'e', 'o', 'e', 'a', 'a', 'a', 'i', 'e', 'i']\n"
     ]
    }
   ],
   "source": [
    "# Q5. Write a program to filter count vowels in the below-given string.\n",
    "\n",
    "string = \"I want to become a data scientist\"\n",
    "vowel=['a','A','e','E','i','I','O','o','U','u']\n",
    "l=[]\n",
    "for i in string:\n",
    "    if i in vowel:\n",
    "        l.append(i)\n",
    "print(l)"
   ]
  },
  {
   "cell_type": "code",
   "execution_count": null,
   "id": "16e3d280-a803-4e19-a9e7-846cc0d77499",
   "metadata": {},
   "outputs": [],
   "source": []
  }
 ],
 "metadata": {
  "kernelspec": {
   "display_name": "Python 3 (ipykernel)",
   "language": "python",
   "name": "python3"
  },
  "language_info": {
   "codemirror_mode": {
    "name": "ipython",
    "version": 3
   },
   "file_extension": ".py",
   "mimetype": "text/x-python",
   "name": "python",
   "nbconvert_exporter": "python",
   "pygments_lexer": "ipython3",
   "version": "3.10.8"
  }
 },
 "nbformat": 4,
 "nbformat_minor": 5
}
